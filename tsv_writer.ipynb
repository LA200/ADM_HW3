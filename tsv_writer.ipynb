{
 "cells": [
  {
   "cell_type": "code",
   "execution_count": 10,
   "metadata": {},
   "outputs": [],
   "source": [
    "import urllib.request\n",
    "from bs4 import BeautifulSoup as soup\n",
    "import requests\n",
    "import time\n",
    "import urllib.request\n",
    "import urllib.error as uer\n",
    "\n",
    "from lxml import etree, html"
   ]
  },
  {
   "cell_type": "code",
   "execution_count": 11,
   "metadata": {},
   "outputs": [],
   "source": [
    "import regex as re"
   ]
  },
  {
   "cell_type": "code",
   "execution_count": 12,
   "metadata": {},
   "outputs": [],
   "source": [
    "import csv"
   ]
  },
  {
   "cell_type": "code",
   "execution_count": 13,
   "metadata": {},
   "outputs": [],
   "source": [
    "import pandas as pd"
   ]
  },
  {
   "cell_type": "code",
   "execution_count": 33,
   "metadata": {},
   "outputs": [],
   "source": [
    "HtmlFile = open('article_1.html', 'r', encoding='utf-8')\n",
    "source_code = HtmlFile.read()\n",
    "\n",
    "book = soup(source_code, 'html.parser')\n",
    "\n",
    "book_title = book.find('h1',{'id':'bookTitle'}).contents[0].strip()\n",
    "\n",
    "book_title\n",
    "\n",
    "book_series = book.find('h2',{'id':'bookSeries'})#.contents[1].contents[0].strip()\n",
    "\n",
    "if book_series.text.strip() == '':\n",
    "    series = ''\n",
    "else:\n",
    "    series = book_series.contents[1].contents[0].strip()\n",
    "\n",
    "series\n",
    "\n",
    "author = book.find('span',{'itemprop':'name'}).contents[0]\n",
    "\n",
    "author\n",
    "\n",
    "rating = float(book.find('span',{'itemprop':'ratingValue'}).contents[0].strip())\n",
    "\n",
    "number_of_rating = int(book.find('meta',{'itemprop':'ratingCount'}).contents[0].split()[0].replace(',',''))\n",
    "\n",
    "review_count = int(book.find('meta',{'itemprop':'reviewCount'})['content'])\n",
    "\n",
    "number_of_pages = int(book.find('span',{'itemprop':'numberOfPages'}).contents[0].split()[0])\n",
    "\n",
    "publishing_date = book.find('div',{'class':'row'}).find_next_sibling().contents[0].split()[1:4]\n",
    "\n",
    "plot = book.find('div',{'id':'description'})\n",
    "\n",
    "complete_plot = plot.find_all('span')\n",
    "\n",
    "plot_i = ''\n",
    "for i in complete_plot[1].contents:\n",
    "    plot_i = plot_i+str(i)\n",
    "\n",
    "plot_i.replace('</b>','').replace('<b>', '').replace('<br/>', '').replace(\"\\'\", '')  #to obtain all the plot\n",
    "\n",
    "details = book.find('div',{'id':'bookDataBox'})\n",
    "\n",
    "places = details.find_all('a', {'href': re.compile(r'/places')})\n",
    "\n",
    "\n",
    "places\n",
    "\n",
    "settings = ''\n",
    "for item in places:\n",
    "    settings += item.text+','\n",
    "    print(item.text)\n",
    "\n",
    "character_sw = details.find_all('a', {'href': re.compile(r'/characters')})\n",
    "\n",
    "character = ''\n",
    "for item in character_sw:\n",
    "    character+= item.text+','\n",
    "    print(item.text)"
   ]
  },
  {
   "cell_type": "code",
   "execution_count": 102,
   "metadata": {},
   "outputs": [],
   "source": [
    "with open('prova1.tsv', 'wt') as out_file:\n",
    "    tsv_writer = csv.writer(out_file, delimiter='\\t')\n",
    "    tsv_writer.writerow(['book_title','book_series','author','rating','number_of_rating',\n",
    "                         'review_count','number_of_pages','publishing_date','complete_plot','places','characters'])\n",
    "    tsv_writer.writerow([book_title,book_series,author,rating,number_of_rating,review_count,number_of_pages,\n",
    "                        publishing_date,complete_plot,settings,character])"
   ]
  },
  {
   "cell_type": "code",
   "execution_count": 108,
   "metadata": {},
   "outputs": [],
   "source": [
    "file = pd.read_csv('prova1.tsv',sep='\\t')\n",
    "#pd.read_csv(fpath, sep='\\t')"
   ]
  },
  {
   "cell_type": "code",
   "execution_count": 114,
   "metadata": {},
   "outputs": [
    {
     "data": {
      "text/plain": [
       "'Mr. Bennet'"
      ]
     },
     "execution_count": 114,
     "metadata": {},
     "output_type": "execute_result"
    }
   ],
   "source": [
    "file['characters'][0].split(',')[0]"
   ]
  },
  {
   "cell_type": "code",
   "execution_count": null,
   "metadata": {},
   "outputs": [],
   "source": []
  },
  {
   "cell_type": "code",
   "execution_count": 44,
   "metadata": {},
   "outputs": [],
   "source": [
    "def tsv_writer():\n",
    "    \n",
    "    print('Insert Path ')\n",
    "    \n",
    "    path = input()\n",
    "    \n",
    "    print('Insert directory')\n",
    "    \n",
    "    directory = input()\n",
    "    \n",
    "    for j in range(1,3):\n",
    "        a = 1 + 5*(j-1)\n",
    "        b = 6 + 5*(j-1)\n",
    "        for k in range(a,b):\n",
    "            \n",
    "            a = 1 + 5*(j-1)\n",
    "            b = 6 + 5*(j-1)\n",
    "\n",
    "            HtmlFile = open(path+'/'+directory+str(j)+'/article_{}.html'.format(k), 'r', encoding='utf-8')\n",
    "\n",
    "            source_code = HtmlFile.read()\n",
    "\n",
    "            book = soup(source_code, 'html.parser')\n",
    "\n",
    "            book_title = book.find('h1',{'id':'bookTitle'}).contents[0].strip()\n",
    "\n",
    "            book_series = book.find('h2',{'id':'bookSeries'})\n",
    "\n",
    "            if book_series.text.strip() == '':\n",
    "                series = ''\n",
    "            else:\n",
    "                series = book_series.contents[1].contents[0].strip()\n",
    "\n",
    "            author = book.find('span',{'itemprop':'name'}).contents[0]\n",
    "\n",
    "            rating = float(book.find('span',{'itemprop':'ratingValue'}).contents[0].strip())\n",
    "\n",
    "            number_of_rating = int(book.find('meta',{'itemprop':'ratingCount'}).contents[0].split()[0].replace(',',''))\n",
    "\n",
    "            review_count = int(book.find('meta',{'itemprop':'reviewCount'})['content'])\n",
    "\n",
    "            number_of_pages = int(book.find('span',{'itemprop':'numberOfPages'}).contents[0].split()[0])\n",
    "\n",
    "            publishing_date = book.find('div',{'class':'row'}).find_next_sibling().contents[0].split()[1:4]\n",
    "\n",
    "            plot = book.find('div',{'id':'description'})\n",
    "\n",
    "            complete_plot = plot.find_all('span')\n",
    "            \n",
    "            details = book.find('div',{'id':'bookDataBox'})\n",
    "\n",
    "            places = details.find_all('a', {'href': re.compile(r'/places')})\n",
    "\n",
    "            settings = ''\n",
    "            for item in places:\n",
    "                settings += item.text+','\n",
    "          \n",
    "\n",
    "            character_sw = details.find_all('a', {'href': re.compile(r'/characters')})\n",
    "\n",
    "            character = ''\n",
    "            for item in character_sw:\n",
    "                character+= item.text+','\n",
    "\n",
    "                \n",
    "            with open('tutti_tsv/prova{}.tsv'.format(k), 'wt') as out_file:\n",
    "                tsv_writer = csv.writer(out_file, delimiter='\\t')\n",
    "                tsv_writer.writerow(['book_title','book_series','author','rating','number_of_rating',\n",
    "                                     'review_count','number_of_pages','publishing_date','complete_plot','places','characters'])\n",
    "                tsv_writer.writerow([book_title,book_series,author,rating,number_of_rating,review_count,number_of_pages,\n",
    "                                    publishing_date,complete_plot,settings,character])\n",
    "\n",
    "\n"
   ]
  },
  {
   "cell_type": "code",
   "execution_count": 45,
   "metadata": {},
   "outputs": [
    {
     "name": "stdout",
     "output_type": "stream",
     "text": [
      "Insert Path \n",
      "cartella\n",
      "Insert directory\n",
      "cartella\n"
     ]
    }
   ],
   "source": [
    "tsv_writer()"
   ]
  },
  {
   "cell_type": "code",
   "execution_count": 38,
   "metadata": {},
   "outputs": [],
   "source": [
    "HtmlFile = open('cartella/cartella1/article_4.html', 'r', encoding='utf-8')\n",
    "source_code = HtmlFile.read()\n",
    "\n",
    "book = soup(source_code, 'html.parser')\n",
    "\n",
    "book_title = book.find('h1',{'id':'bookTitle'}).contents[0].strip()\n",
    "\n",
    "book_title\n",
    "\n",
    "book_series = book.find('h2',{'id':'bookSeries'})#.contents[1].contents[0].strip()\n",
    "\n",
    "if book_series.text.strip() == '':\n",
    "    series = ''\n",
    "else:\n",
    "    series = book_series.contents[1].contents[0].strip()\n",
    "\n",
    "series\n",
    "\n",
    "author = book.find('span',{'itemprop':'name'}).contents[0]\n",
    "\n",
    "author\n",
    "\n",
    "rating = float(book.find('span',{'itemprop':'ratingValue'}).contents[0].strip())\n",
    "\n",
    "number_of_rating = int(book.find('meta',{'itemprop':'ratingCount'}).contents[0].split()[0].replace(',',''))\n",
    "\n",
    "review_count = int(book.find('meta',{'itemprop':'reviewCount'})['content'])\n",
    "\n",
    "number_of_pages = int(book.find('span',{'itemprop':'numberOfPages'}).contents[0].split()[0])\n",
    "\n",
    "publishing_date = book.find('div',{'class':'row'}).find_next_sibling().contents[0].split()[1:4]\n",
    "\n",
    "plot = book.find('div',{'id':'description'})\n",
    "\n",
    "complete_plot = plot.find_all('span')\n",
    "\n",
    "#plot_i = ''\n",
    "#for i in complete_plot[1].contents:\n",
    "#    plot_i = plot_i+str(i)\n",
    "\n",
    "#complete_plot.replace('</b>','').replace('<b>', '').replace('<br/>', '').replace(\"\\'\", '')  #to obtain all the plot\n",
    "\n",
    "details = book.find('div',{'id':'bookDataBox'})\n",
    "\n",
    "places = details.find_all('a', {'href': re.compile(r'/places')})\n",
    "\n",
    "\n",
    "places\n",
    "\n",
    "settings = ''\n",
    "for item in places:\n",
    "    settings += item.text+','\n",
    "    #print(item.text)\n",
    "\n",
    "character_sw = details.find_all('a', {'href': re.compile(r'/characters')})\n",
    "\n",
    "character = ''\n",
    "for item in character_sw:\n",
    "    character+= item.text+','\n",
    "    #print(item.text)"
   ]
  },
  {
   "cell_type": "code",
   "execution_count": 39,
   "metadata": {},
   "outputs": [
    {
     "data": {
      "text/plain": [
       "[<span id=\"freeTextContainer17306244053882053040\"><i>Alternate cover edition of ISBN 9780679783268</i><br><br/>Since its immediate success in 1813, <i>Pride and Prejudice</i> has remained one of the most popular novels in the English language. Jane Austen called this brilliant work \"her own darling child\" and its vivacious heroine, Elizabeth Bennet, \"as delightful a creature as ever appeared in print.\" The romantic clash between the opinionated</br></span>,\n",
       " <span id=\"freeText17306244053882053040\" style=\"display:none\"><i>Alternate cover edition of ISBN 9780679783268</i><br/><br/>Since its immediate success in 1813, <i>Pride and Prejudice</i> has remained one of the most popular novels in the English language. Jane Austen called this brilliant work \"her own darling child\" and its vivacious heroine, Elizabeth Bennet, \"as delightful a creature as ever appeared in print.\" The romantic clash between the opinionated Elizabeth and her proud beau, Mr. Darcy, is a splendid performance of civilized sparring. And Jane Austen's radiant wit sparkles as her characters dance a delicate quadrille of flirtation and intrigue, making this book the most superb comedy of manners of Regency England.</span>]"
      ]
     },
     "execution_count": 39,
     "metadata": {},
     "output_type": "execute_result"
    }
   ],
   "source": [
    "complete_plot"
   ]
  }
 ],
 "metadata": {
  "kernelspec": {
   "display_name": "Python 3",
   "language": "python",
   "name": "python3"
  },
  "language_info": {
   "codemirror_mode": {
    "name": "ipython",
    "version": 3
   },
   "file_extension": ".py",
   "mimetype": "text/x-python",
   "name": "python",
   "nbconvert_exporter": "python",
   "pygments_lexer": "ipython3",
   "version": "3.8.3"
  }
 },
 "nbformat": 4,
 "nbformat_minor": 4
}
