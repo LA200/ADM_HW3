{
 "cells": [
  {
   "cell_type": "code",
   "execution_count": 2,
   "metadata": {},
   "outputs": [],
   "source": [
    "import urllib.request\n",
    "from bs4 import BeautifulSoup as soup\n",
    "import requests\n",
    "import time\n",
    "import urllib.request\n",
    "import urllib.error as uer\n",
    "\n",
    "from lxml import etree, html\n",
    "import regex as re\n",
    "import csv\n",
    "import pandas as pd\n",
    "\n",
    "from langdetect import detect"
   ]
  },
  {
   "cell_type": "code",
   "execution_count": 24,
   "metadata": {},
   "outputs": [],
   "source": [
    "def tsv_writer():\n",
    "    \n",
    "    print('Insert Path ')\n",
    "    \n",
    "    path = input()\n",
    "    \n",
    "    print('Insert directory')\n",
    "    \n",
    "    directory = input()\n",
    "    \n",
    "    count_error = []\n",
    "    \n",
    "    for j in range(1,101):\n",
    "        a = 1 + 100*(j-1)\n",
    "        b = 101 + 100*(j-1)\n",
    "        for k in range(a,b):\n",
    "            \n",
    "            try:\n",
    "\n",
    "                HtmlFile = open(path+'/'+directory+str(j)+'/article_{}.html'.format(k), 'r', encoding='utf-8')\n",
    "\n",
    "                source_code = HtmlFile.read()\n",
    "\n",
    "                book = soup(source_code, 'html.parser')\n",
    "\n",
    "                book_title = book.find('h1',{'id':'bookTitle'}).contents[0].strip()\n",
    "\n",
    "                book_series = book.find('h2',{'id':'bookSeries'})\n",
    "\n",
    "                if book_series.text.strip() == '':\n",
    "                    series = ''\n",
    "                else:\n",
    "                    series = book_series.contents[1].contents[0].strip()\n",
    "\n",
    "                author = book.find('span',{'itemprop':'name'}).contents[0]\n",
    "\n",
    "                rating = float(book.find('span',{'itemprop':'ratingValue'}).contents[0].strip())\n",
    "\n",
    "                number_of_rating = int(book.find('meta',{'itemprop':'ratingCount'}).contents[0].split()[0].replace(',',''))\n",
    "\n",
    "                review_count = int(book.find('meta',{'itemprop':'reviewCount'})['content'])\n",
    "\n",
    "                number_of_pages = int(book.find('span',{'itemprop':'numberOfPages'}).contents[0].split()[0])\n",
    "\n",
    "                publishing_date = book.find('div',{'class':'row'}).find_next_sibling().contents[0].split()[1:4]\n",
    "\n",
    "                plot = book.find('div',{'id':'description'})\n",
    "                \n",
    "                try:                \n",
    "                \n",
    "                    complete_plot = plot.find_all('span')\n",
    "                    \n",
    "                    if detect(str(complete_plot)) != 'en':\n",
    "                        continue\n",
    "                \n",
    "                except: \n",
    "                    \n",
    "                    complete_plot = ''\n",
    "                    \n",
    "\n",
    "                details = book.find('div',{'id':'bookDataBox'})\n",
    "\n",
    "                places = details.find_all('a', {'href': re.compile(r'/places')})\n",
    "\n",
    "                settings = ''\n",
    "                for item in places:\n",
    "                    settings += item.text+','\n",
    "\n",
    "\n",
    "                character_sw = details.find_all('a', {'href': re.compile(r'/characters')})\n",
    "\n",
    "                character = ''\n",
    "                for item in character_sw:\n",
    "                    character+= item.text+','\n",
    "            \n",
    "            except:\n",
    "                \n",
    "                count_error.append((a,j))\n",
    "                \n",
    "                continue\n",
    "\n",
    "\n",
    "            with open('books_1_tsv/article_{}.tsv'.format(k), 'wt', encoding=\"utf-8\") as out_file:\n",
    "                    tsv_writer = csv.writer(out_file, delimiter='\\t')\n",
    "                    tsv_writer.writerow(['book_title','book_series','author','rating','number_of_rating',\n",
    "                                         'review_count','number_of_pages','publishing_date','complete_plot','places','characters'])\n",
    "                    tsv_writer.writerow([book_title,series,author,rating,number_of_rating,review_count,number_of_pages,\n",
    "                                        publishing_date,complete_plot,settings,character])"
   ]
  },
  {
   "cell_type": "code",
   "execution_count": null,
   "metadata": {
    "scrolled": true
   },
   "outputs": [
    {
     "name": "stdout",
     "output_type": "stream",
     "text": [
      "Insert Path \n",
      "books_1\n",
      "Insert directory\n",
      "html_books_\n"
     ]
    }
   ],
   "source": [
    "tsv_writer()"
   ]
  },
  {
   "cell_type": "code",
   "execution_count": null,
   "metadata": {},
   "outputs": [],
   "source": [
    "count_error"
   ]
  }
 ],
 "metadata": {
  "kernelspec": {
   "display_name": "Python 3",
   "language": "python",
   "name": "python3"
  },
  "language_info": {
   "codemirror_mode": {
    "name": "ipython",
    "version": 3
   },
   "file_extension": ".py",
   "mimetype": "text/x-python",
   "name": "python",
   "nbconvert_exporter": "python",
   "pygments_lexer": "ipython3",
   "version": "3.7.6"
  }
 },
 "nbformat": 4,
 "nbformat_minor": 2
}
