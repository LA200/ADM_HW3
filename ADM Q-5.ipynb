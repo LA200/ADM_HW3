{
 "cells": [
  {
   "cell_type": "markdown",
   "metadata": {},
   "source": [
    "# Q-5 :\n",
    "You are given a string written in english capital letters, for example S=\"CADFECEILGJHABNOPSTIRYOEABILCNR.\" You are asked to find the maximum length of a subsequence of characters that is in alfabetical order. For example, here a subsequence of characters in alphabetical order is the \"ACEGJSTY\": \"CADFECEILGJHABNOFPSTIRYOEABILCNR.\" Among all the possible such sequences, you are asked to find the one that is the longest."
   ]
  },
  {
   "cell_type": "markdown",
   "metadata": {},
   "source": [
    "1. Write a recursive program that, given a string, computes the length of the subsequence of maximum length that is in alphabetical order. Try some examples. Are the examples of short strings correct? Can you find examples that your algorithm does not terminate in reasonable time?"
   ]
  },
  {
   "cell_type": "code",
   "execution_count": 13,
   "metadata": {},
   "outputs": [
    {
     "name": "stdout",
     "output_type": "stream",
     "text": [
      "--- 0.0 seconds ---\n",
      "Please enter a sequence with upper cases: AGYDEOFG\n",
      "Length of the alphabetical ordered longest subsequence is  5\n"
     ]
    }
   ],
   "source": [
    "import time\n",
    "start_time = time.time()\n",
    "\n",
    "def recursive_lcs(Y, X, m, n): \n",
    "  \n",
    "    if m == 0 or n == 0: \n",
    "        return 0; \n",
    "    elif Y[m-1] == X[n-1]: \n",
    "        return 1 + recursive_lcs(Y, X, m-1, n-1); \n",
    "    else: \n",
    "        return max(recursive_lcs(Y, X, m, n-1), recursive_lcs(Y, X, m-1, n)); \n",
    "\n",
    "print(\"--- %s seconds ---\" % (time.time() - start_time))\n",
    " \n",
    "Alphabet_S = \"ABCDEFGHIJKLMNOPQRSTUVWXYZ\"\n",
    "Input_S =  input(\"Please enter a sequence with upper cases: \")\n",
    "#print (\"Length of LCS is \", lcs(Y , X, len(Y), len(X)))\n",
    "\n",
    "if Input_S.isalpha() and Input_S.isupper():\n",
    "    print (\"Length of the alphabetical ordered longest subsequence is \", recursive_lcs(Alphabet_S, Input_S, len(Alphabet_S), len(Input_S)))\n",
    "else:\n",
    "    print ('Please enter a string with only upper case letters in English!')    \n"
   ]
  },
  {
   "cell_type": "markdown",
   "metadata": {},
   "source": [
    "### Consideration:\n",
    "\n",
    "As we have tried several times with short strings that can prove whether the function is finding correct answer or not, our function has returned correct answer for all different inputs. Since we have conditioned the input that all strings can only contain the letters of English alphabet it also makes sure that we have a correct input. We have tried the function by increasing the length of string and when we have tried a string with length 20 it just kept running and did not returned a result in a reasonable time."
   ]
  },
  {
   "cell_type": "markdown",
   "metadata": {},
   "source": [
    "2. Show that the running time of the algorithm is exponential."
   ]
  },
  {
   "cell_type": "code",
   "execution_count": null,
   "metadata": {},
   "outputs": [],
   "source": [
    "def recursive_lcs(Y, X, m, n): \n",
    "  \n",
    "    if m == 0 or n == 0: \n",
    "        return 0; \n",
    "    elif Y[m-1] == X[n-1]: \n",
    "        return 1 + recursive_lcs(Y, X, m-1, n-1); \n",
    "    else: \n",
    "        return max(recursive_lcs(Y, X, m, n-1), recursive_lcs(Y, X, m-1, n)); \n",
    "\n",
    "import matplotlib.pyplot as plt\n",
    "\n",
    "list_a = ['F','DF','AGD', 'VYBI', 'DCYPS', 'KLMADT', 'OPYTESK', 'QTYSFGHS', 'HVBFLFKGN','HVBFLFKGNJ', 'HVBFLFKGNJO','HVBFLFKGNJOY', 'HVBFLFKGNJOYB', 'HVBFLFKGNJOYPJ', 'HVBFLFKGNJOYPJH', 'HVBFLFKGNJOYPJHK']\n",
    "times = []\n",
    "length = []\n",
    "\n",
    "for i in range(len(list_a)):\n",
    "    \n",
    "    Alphabet_S = \"ABCDEFGHIJKLMNOPQRSTUVWXYZ\"\n",
    "    Input_S = list_a[i]\n",
    "    \n",
    "    start_time = time.time()\n",
    "    \n",
    "    recursive_lcs(Alphabet_S, Input_S, len(Alphabet_S), len(Input_S))\n",
    "    \n",
    "    t = (time.time() - start_time)\n",
    "    \n",
    "    l = len(Input_S)\n",
    "    times.append(t)\n",
    "    length.append(l)\n",
    "    \n",
    "plt.plot(length,times)\n"
   ]
  },
  {
   "cell_type": "markdown",
   "metadata": {},
   "source": [
    "### Consideration:\n",
    "As we can see above the graph prove that the running time is increasing dramatically which really look like the recursive algorithm has the exponential time complexity."
   ]
  },
  {
   "cell_type": "markdown",
   "metadata": {},
   "source": [
    "3. Write a program that computes the length of the subsequence of maximum length, using dynamic programming."
   ]
  },
  {
   "cell_type": "code",
   "execution_count": 19,
   "metadata": {},
   "outputs": [
    {
     "name": "stdout",
     "output_type": "stream",
     "text": [
      "--- 0.0009951591491699219 seconds ---\n",
      "Please enter a sequence with upper cases: ABCGETED\n",
      "Length of LCS is  5\n"
     ]
    }
   ],
   "source": [
    "import time\n",
    "start_time = time.time()\n",
    "\n",
    "def longest_common_subsequence(S1 , S2):\n",
    "    \n",
    "    \n",
    "    # find the length of the strings \n",
    "    m = len(S1) \n",
    "    n = len(S2) \n",
    "\n",
    "    # declaring the array for storing the dp values \n",
    "    L = [[None]*(n+1) for i in range(m+1)] \n",
    "\n",
    "    \"\"\"Following steps build L[m+1][n+1] in bottom up fashion \n",
    "    Note: L[i][j] contains length of LCS of X[0..i-1] \n",
    "    and Y[0..j-1]\"\"\"\n",
    "    for i in range(m+1): \n",
    "        for j in range(n+1): \n",
    "            if i == 0 or j == 0 : \n",
    "                L[i][j] = 0\n",
    "            elif S1[i-1] == Y[j-1]: \n",
    "                L[i][j] = L[i-1][j-1]+1\n",
    "            else: \n",
    "                L[i][j] = max(L[i-1][j] , L[i][j-1]) \n",
    "\n",
    "    # L[m][n] contains the length of LCS of X[0..n-1] & Y[0..m-1] \n",
    "    return L[m][n]\n",
    "\n",
    "print(\"--- %s seconds ---\" % (time.time() - start_time))\n",
    "    \n",
    "Input_S = input(\"Please enter a sequence with upper cases: \")\n",
    "Alphabet_S = \"ABCDEFGHIJKLMNOPQRSTUVWXYZ\"\n",
    "\n",
    "if Input_S.isalpha() and Input_S.isupper():\n",
    "    print (\"Length of LCS is \", longest_common_subsequence(Input_S, Alphabet_S))\n",
    "else:\n",
    "    print ('Please enter a string with only upper case letters in English!')\n",
    "       \n",
    "    "
   ]
  },
  {
   "cell_type": "markdown",
   "metadata": {},
   "source": [
    "### Considerations:\n",
    "As we have tried several times with short strings that can be proven whether the function is finding correct answer or not, our function has returned correct answer for all different inputs. Since we have conditioned the input that all strings can only contain the letters of English alphabet it also makes sure that we have a correct input. Howewer, the dynamic algorithm finds the longest subsequence really quick even for the string that has a really long length."
   ]
  },
  {
   "cell_type": "markdown",
   "metadata": {},
   "source": [
    "4. What is its runtime complexity?"
   ]
  },
  {
   "cell_type": "markdown",
   "metadata": {},
   "source": [
    "### Consideration:\n",
    "We have tried the dynamic algorithm with different strings that have really long length but the algorithm has returned the result quickly since it has the O(mn) runtime complexity."
   ]
  }
 ],
 "metadata": {
  "kernelspec": {
   "display_name": "Python 3",
   "language": "python",
   "name": "python3"
  },
  "language_info": {
   "codemirror_mode": {
    "name": "ipython",
    "version": 3
   },
   "file_extension": ".py",
   "mimetype": "text/x-python",
   "name": "python",
   "nbconvert_exporter": "python",
   "pygments_lexer": "ipython3",
   "version": "3.8.3"
  }
 },
 "nbformat": 4,
 "nbformat_minor": 4
}
