{
 "cells": [
  {
   "cell_type": "code",
   "execution_count": 1,
   "metadata": {},
   "outputs": [],
   "source": [
    "from bs4 import BeautifulSoup as soup\n",
    "import requests\n",
    "import time\n",
    "import urllib.request\n",
    "import urllib.error as uer"
   ]
  },
  {
   "cell_type": "code",
   "execution_count": 6,
   "metadata": {},
   "outputs": [],
   "source": [
    "#taking all web pages of books' rank\n",
    "#https://www.goodreads.com/list/show/1.Best_Books_Ever?page=1\n",
    "\n",
    "url_rank = []\n",
    "for i in range(1,301):\n",
    "    url_rank.append('https://www.goodreads.com/list/show/1.Best_Books_Ever?page={}'.format(i))\n",
    "    "
   ]
  },
  {
   "cell_type": "code",
   "execution_count": 9,
   "metadata": {},
   "outputs": [
    {
     "data": {
      "text/plain": [
       "'https://www.goodreads.com/list/show/1.Best_Books_Ever?page=11'"
      ]
     },
     "execution_count": 9,
     "metadata": {},
     "output_type": "execute_result"
    }
   ],
   "source": [
    "url_rank[10]"
   ]
  },
  {
   "cell_type": "code",
   "execution_count": 82,
   "metadata": {},
   "outputs": [],
   "source": [
    "string_for_parsing = 'https://www.goodreads.com'"
   ]
  },
  {
   "cell_type": "code",
   "execution_count": 226,
   "metadata": {},
   "outputs": [],
   "source": [
    "#the goal is to obtain the 'href' of each book of each page:\n",
    "book = requests.get(url_rank[0])\n",
    "page = soup(book.text, 'html.parser')"
   ]
  },
  {
   "cell_type": "code",
   "execution_count": 198,
   "metadata": {},
   "outputs": [],
   "source": [
    "#page"
   ]
  },
  {
   "cell_type": "code",
   "execution_count": 227,
   "metadata": {},
   "outputs": [],
   "source": [
    "a = page.find('body',{'class':\"\"})\n",
    "b = a.find('div', {'class': \"content\"})\n",
    "c = b.find('div', {'class': \"mainContentContainer\"})\n",
    "d = c.find('div', {'class': \"mainContentFloat\"})\n",
    "e = d.find('div', {'class': \"leftContainer\"})\n",
    "f = e.find('div', {'id'   : \"all_votes\"})\n",
    "g = f.find('table',{'class' : 'tableList js-dataTooltip'})\n",
    "h = g.find('tr', {'itemscope' : \"\"})\n"
   ]
  },
  {
   "cell_type": "code",
   "execution_count": 75,
   "metadata": {},
   "outputs": [],
   "source": [
    "i = h.find('a')"
   ]
  },
  {
   "cell_type": "code",
   "execution_count": 161,
   "metadata": {},
   "outputs": [],
   "source": [
    "i2 = h.find_next_sibling()"
   ]
  },
  {
   "cell_type": "code",
   "execution_count": 164,
   "metadata": {},
   "outputs": [],
   "source": [
    "prova = i2.find('a')"
   ]
  },
  {
   "cell_type": "code",
   "execution_count": 166,
   "metadata": {},
   "outputs": [
    {
     "data": {
      "text/plain": [
       "'/book/show/2.Harry_Potter_and_the_Order_of_the_Phoenix'"
      ]
     },
     "execution_count": 166,
     "metadata": {},
     "output_type": "execute_result"
    }
   ],
   "source": [
    "prova['href']"
   ]
  },
  {
   "cell_type": "code",
   "execution_count": null,
   "metadata": {},
   "outputs": [],
   "source": []
  },
  {
   "cell_type": "code",
   "execution_count": 85,
   "metadata": {},
   "outputs": [
    {
     "data": {
      "text/plain": [
       "'https://www.goodreads.com/book/show/2767052-the-hunger-games'"
      ]
     },
     "execution_count": 85,
     "metadata": {},
     "output_type": "execute_result"
    }
   ],
   "source": [
    "link = string_for_parsing+i['href']\n",
    "link"
   ]
  },
  {
   "cell_type": "code",
   "execution_count": 208,
   "metadata": {},
   "outputs": [],
   "source": [
    "#try to make it shorter \n",
    "make_it_short = page.find('body',{'class':\"\"}).find('div', {'class': \"content\"}\n",
    "                ).find('div', {'class': \"mainContentContainer\"}).find('div', {'class': \"mainContentFloat\"}\n",
    "                ).find('div', {'class': \"leftContainer\"}).find('div', {'id'   : \"all_votes\"}\n",
    "                ).find('table',{'class' : 'tableList js-dataTooltip'})"
   ]
  },
  {
   "cell_type": "code",
   "execution_count": 93,
   "metadata": {},
   "outputs": [],
   "source": [
    "link1 = string_for_parsing+make_it_short "
   ]
  },
  {
   "cell_type": "code",
   "execution_count": 94,
   "metadata": {},
   "outputs": [
    {
     "data": {
      "text/plain": [
       "'https://www.goodreads.com/book/show/2767052-the-hunger-games'"
      ]
     },
     "execution_count": 94,
     "metadata": {},
     "output_type": "execute_result"
    }
   ],
   "source": [
    "link1"
   ]
  },
  {
   "cell_type": "code",
   "execution_count": null,
   "metadata": {},
   "outputs": [],
   "source": []
  },
  {
   "cell_type": "code",
   "execution_count": 167,
   "metadata": {},
   "outputs": [],
   "source": [
    "#trying to obtain all link of a page in a loop:"
   ]
  },
  {
   "cell_type": "code",
   "execution_count": 187,
   "metadata": {},
   "outputs": [],
   "source": [
    "import itertools"
   ]
  },
  {
   "cell_type": "code",
   "execution_count": 210,
   "metadata": {},
   "outputs": [],
   "source": [
    "useful_links = []\n",
    "for book in range(1,101):\n",
    "    a = page.find('body',{'class':\"\"})\n",
    "    b = a.find('div', {'class': \"content\"})\n",
    "    c = b.find('div', {'class': \"mainContentContainer\"})\n",
    "    d = c.find('div', {'class': \"mainContentFloat\"})\n",
    "    e = d.find('div', {'class': \"leftContainer\"})\n",
    "    f = e.find('div', {'id'   : \"all_votes\"})\n",
    "    g = f.find('table',{'class' : 'tableList js-dataTooltip'})\n",
    "    h = g.find('tr', {'itemscope' : \"\"})\n",
    "    \n",
    "    if book == 1:\n",
    "        i = h.find('a')\n",
    "        useful_links.append(string_for_parsing+i['href'])\n",
    "        continue\n",
    "    else:\n",
    "            for book in itertools.repeat(None, book-1):\n",
    "                h = h.find_next_sibling()\n",
    "            prova = h.find('a')\n",
    "            useful_links.append(string_for_parsing+prova['href'])"
   ]
  },
  {
   "cell_type": "code",
   "execution_count": 211,
   "metadata": {},
   "outputs": [
    {
     "data": {
      "text/plain": [
       "100"
      ]
     },
     "execution_count": 211,
     "metadata": {},
     "output_type": "execute_result"
    }
   ],
   "source": [
    "len(useful_links)"
   ]
  },
  {
   "cell_type": "code",
   "execution_count": 212,
   "metadata": {},
   "outputs": [
    {
     "data": {
      "text/plain": [
       "['https://www.goodreads.com/book/show/2767052-the-hunger-games',\n",
       " 'https://www.goodreads.com/book/show/2.Harry_Potter_and_the_Order_of_the_Phoenix',\n",
       " 'https://www.goodreads.com/book/show/2657.To_Kill_a_Mockingbird',\n",
       " 'https://www.goodreads.com/book/show/1885.Pride_and_Prejudice',\n",
       " 'https://www.goodreads.com/book/show/41865.Twilight',\n",
       " 'https://www.goodreads.com/book/show/19063.The_Book_Thief',\n",
       " 'https://www.goodreads.com/book/show/170448.Animal_Farm',\n",
       " 'https://www.goodreads.com/book/show/11127.The_Chronicles_of_Narnia',\n",
       " 'https://www.goodreads.com/book/show/30.J_R_R_Tolkien_4_Book_Boxed_Set',\n",
       " 'https://www.goodreads.com/book/show/11870085-the-fault-in-our-stars']"
      ]
     },
     "execution_count": 212,
     "metadata": {},
     "output_type": "execute_result"
    }
   ],
   "source": [
    "useful_links[:10]"
   ]
  },
  {
   "cell_type": "code",
   "execution_count": 229,
   "metadata": {},
   "outputs": [],
   "source": [
    "url_rank = []\n",
    "useful_links = []\n",
    "for num_page in range(1,301): #in this range we define how many pages are took into account\n",
    "    url_rank.append('https://www.goodreads.com/list/show/1.Best_Books_Ever?page={}'.format(num_page))\n",
    "\n",
    "    for book in range(1,101): #this range is up to 101 because each page has 100 books\n",
    "        a = page.find('body',{'class':\"\"})\n",
    "        b = a.find('div', {'class': \"content\"})\n",
    "        c = b.find('div', {'class': \"mainContentContainer\"})\n",
    "        d = c.find('div', {'class': \"mainContentFloat\"})\n",
    "        e = d.find('div', {'class': \"leftContainer\"})\n",
    "        f = e.find('div', {'id'   : \"all_votes\"})\n",
    "        g = f.find('table',{'class' : 'tableList js-dataTooltip'})\n",
    "        h = g.find('tr', {'itemscope' : \"\"})\n",
    "\n",
    "        if book == 1:\n",
    "            i = h.find('a')\n",
    "            useful_links.append(string_for_parsing+i['href'])\n",
    "            continue\n",
    "        else:\n",
    "                for book in itertools.repeat(None, book-1):\n",
    "                    h = h.find_next_sibling()\n",
    "                prova = h.find('a')\n",
    "                useful_links.append(string_for_parsing+prova['href'])"
   ]
  },
  {
   "cell_type": "code",
   "execution_count": 230,
   "metadata": {},
   "outputs": [
    {
     "data": {
      "text/plain": [
       "30000"
      ]
     },
     "execution_count": 230,
     "metadata": {},
     "output_type": "execute_result"
    }
   ],
   "source": [
    "# useful_links is the list that cointains the links of every book of the first n pages\n",
    "len(useful_links)"
   ]
  },
  {
   "cell_type": "code",
   "execution_count": null,
   "metadata": {},
   "outputs": [],
   "source": []
  },
  {
   "cell_type": "code",
   "execution_count": null,
   "metadata": {},
   "outputs": [],
   "source": []
  },
  {
   "cell_type": "code",
   "execution_count": 231,
   "metadata": {},
   "outputs": [],
   "source": [
    "#link of the best book\n",
    "useful_links[0]\n",
    "\n",
    "with open('urls.txt', 'w') as f:\n",
    "    for item in useful_links:\n",
    "        f.write(\"%s\\n\" % item)\n"
   ]
  }
 ],
 "metadata": {
  "kernelspec": {
   "display_name": "Python 3",
   "language": "python",
   "name": "python3"
  },
  "language_info": {
   "codemirror_mode": {
    "name": "ipython",
    "version": 3
   },
   "file_extension": ".py",
   "mimetype": "text/x-python",
   "name": "python",
   "nbconvert_exporter": "python",
   "pygments_lexer": "ipython3",
   "version": "3.7.6"
  }
 },
 "nbformat": 4,
 "nbformat_minor": 2
}
