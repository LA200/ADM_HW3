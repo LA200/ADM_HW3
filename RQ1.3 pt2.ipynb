{
 "cells": [
  {
   "cell_type": "code",
   "execution_count": 2,
   "metadata": {},
   "outputs": [],
   "source": [
    "from selenium import webdriver\n",
    "from selenium.webdriver.common.keys import Keys"
   ]
  },
  {
   "cell_type": "code",
   "execution_count": 3,
   "metadata": {},
   "outputs": [
    {
     "name": "stderr",
     "output_type": "stream",
     "text": [
      "[WDM] - There is no [win64] geckodriver for browser  in cache\n",
      "[WDM] - Getting latest mozilla release info for v0.28.0\n",
      "[WDM] - Trying to download new driver from https://github.com/mozilla/geckodriver/releases/download/v0.28.0/geckodriver-v0.28.0-win64.zip\n",
      "[WDM] - Driver has been saved in cache [C:\\Users\\lucas\\.wdm\\drivers\\geckodriver\\win64\\v0.28.0]\n"
     ]
    }
   ],
   "source": [
    "from webdriver_manager.firefox import GeckoDriverManager\n",
    "from webdriver_manager.chrome import ChromeDriver\n",
    "driver = webdriver.Firefox(executable_path=GeckoDriverManager().install())"
   ]
  },
  {
   "cell_type": "code",
   "execution_count": 4,
   "metadata": {},
   "outputs": [],
   "source": [
    "import urllib.request\n",
    "from bs4 import BeautifulSoup as soup\n",
    "import requests\n",
    "import time\n",
    "import urllib.request\n",
    "import urllib.error as uer\n",
    "\n",
    "from lxml import etree, html"
   ]
  },
  {
   "cell_type": "code",
   "execution_count": 176,
   "metadata": {},
   "outputs": [],
   "source": [
    "HtmlFile = open('article_6.html', 'r', encoding='utf-8')\n",
    "source_code = HtmlFile.read()"
   ]
  },
  {
   "cell_type": "code",
   "execution_count": 177,
   "metadata": {},
   "outputs": [],
   "source": [
    "book = soup(source_code, 'html.parser')"
   ]
  },
  {
   "cell_type": "code",
   "execution_count": 178,
   "metadata": {},
   "outputs": [],
   "source": [
    "plot = book.find('div',{'id':'description'})"
   ]
  },
  {
   "cell_type": "code",
   "execution_count": 179,
   "metadata": {},
   "outputs": [],
   "source": [
    "complete_plot = plot.find_all('span')"
   ]
  },
  {
   "cell_type": "code",
   "execution_count": 225,
   "metadata": {},
   "outputs": [],
   "source": [
    "plot_i = ''\n",
    "for i in complete_plot[1].contents:\n",
    "    plot_i = plot_i+str(i)"
   ]
  },
  {
   "cell_type": "code",
   "execution_count": 222,
   "metadata": {},
   "outputs": [
    {
     "data": {
      "text/plain": [
       "'<i>Librarians note: An alternate cover edition can be found <a href=\"https://www.goodreads.com/book/show/41048862.here\" rel=\"nofollow noopener\" title=\"here\">here</a></i>It is 1939. Nazi Germany. The country is holding its breath. Death has never been busier, and will be busier still.By her brothers graveside, Liesels life is changed when she picks up a single object, partially hidden in the snow. It is The Gravediggers Handbook, left behind there by accident, and it is her first act of book thievery. So begins a love affair with books and words, as Liesel, with the help of her accordian-playing foster father, learns to read. Soon she is stealing books from Nazi book-burnings, the mayors wifes library, wherever there are books to be found.But these are dangerous times. When Liesels foster family hides a Jew in their basement, Liesels world is both opened up, and closed down.In superbly crafted writing that burns with intensity, award-winning author Markus Zusak has given us one of the most enduring stories of our time.(Note: this title was not published as YA fiction)'"
      ]
     },
     "execution_count": 222,
     "metadata": {},
     "output_type": "execute_result"
    }
   ],
   "source": [
    "plot_i.replace('</b>','').replace('<b>', '').replace('<br/>', '').replace(\"\\'\", '')  #to obtain all the plot "
   ]
  },
  {
   "cell_type": "code",
   "execution_count": 230,
   "metadata": {},
   "outputs": [
    {
     "data": {
      "text/plain": [
       "'<i>Librarian\\'s note: An alternate cover edition can be found <a href=\"https://www.goodreads.com/book/show/41048862.here\" rel=\"nofollow noopener\" title=\"here\">here</a></i><br/><br/>It is 1939. Nazi Germany. The country is holding its breath. Death has never been busier, and will be busier still.<br/><br/>By her brother\\'s graveside, Liesel\\'s life is changed when she picks up a single object, partially hidden in the snow. It is The Gravedigger\\'s Handbook, left behind there by accident, and it is her first act of book thievery. So begins a love affair with books and words, as Liesel, with the help of her accordian-playing foster father, learns to read. Soon she is stealing books from Nazi book-burnings, the mayor\\'s wife\\'s library, wherever there are books to be found.<br/><br/>But these are dangerous times. When Liesel\\'s foster family hides a Jew in their basement, Liesel\\'s world is both opened up, and closed down.<br/><br/>In superbly crafted writing that burns with intensity, award-winning author Markus Zusak has given us one of the most enduring stories of our time.<br/><br/>(Note: this title was not published as YA fiction)'"
      ]
     },
     "execution_count": 230,
     "metadata": {},
     "output_type": "execute_result"
    }
   ],
   "source": [
    "re.sub(r'[</b>][<b>][<br/>][<][\\\\]','',plot_i) #just a try to improve the replace function"
   ]
  },
  {
   "cell_type": "code",
   "execution_count": null,
   "metadata": {},
   "outputs": [],
   "source": []
  },
  {
   "cell_type": "code",
   "execution_count": 182,
   "metadata": {},
   "outputs": [],
   "source": [
    "details = book.find('div',{'id':'bookDataBox'})"
   ]
  },
  {
   "cell_type": "code",
   "execution_count": 202,
   "metadata": {},
   "outputs": [],
   "source": [
    "import regex as re "
   ]
  },
  {
   "cell_type": "code",
   "execution_count": 206,
   "metadata": {},
   "outputs": [],
   "source": [
    "places = details.find_all('a', {'href': re.compile(r'/places')})"
   ]
  },
  {
   "cell_type": "code",
   "execution_count": 209,
   "metadata": {},
   "outputs": [
    {
     "name": "stdout",
     "output_type": "stream",
     "text": [
      "Molching\n",
      "Germany\n"
     ]
    }
   ],
   "source": [
    "for item in plavce:\n",
    "    print(item.text)"
   ]
  },
  {
   "cell_type": "code",
   "execution_count": 210,
   "metadata": {},
   "outputs": [],
   "source": [
    "character_sw = details.find_all('a', {'href': re.compile(r'/characters')})"
   ]
  },
  {
   "cell_type": "code",
   "execution_count": 212,
   "metadata": {},
   "outputs": [
    {
     "name": "stdout",
     "output_type": "stream",
     "text": [
      "Liesel Meminger\n",
      "Hans Hubermann\n",
      "Rudy Steiner\n",
      "Rosa Hubermann\n",
      "Max Vandenburg\n",
      "Tommy Müller\n",
      "Ilsa Hermann\n",
      "Frau Holtzapfel\n"
     ]
    }
   ],
   "source": [
    "for item in character_sw:\n",
    "    print(item.text)"
   ]
  }
 ],
 "metadata": {
  "kernelspec": {
   "display_name": "Python 3",
   "language": "python",
   "name": "python3"
  },
  "language_info": {
   "codemirror_mode": {
    "name": "ipython",
    "version": 3
   },
   "file_extension": ".py",
   "mimetype": "text/x-python",
   "name": "python",
   "nbconvert_exporter": "python",
   "pygments_lexer": "ipython3",
   "version": "3.7.6"
  }
 },
 "nbformat": 4,
 "nbformat_minor": 2
}
