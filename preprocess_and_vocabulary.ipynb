{
 "cells": [
  {
   "cell_type": "code",
   "execution_count": 16,
   "metadata": {},
   "outputs": [],
   "source": [
    "import nltk"
   ]
  },
  {
   "cell_type": "code",
   "execution_count": 12,
   "metadata": {},
   "outputs": [],
   "source": [
    "import io \n",
    "import codecs\n",
    "import csv\n",
    "from nltk.corpus import stopwords \n",
    "from nltk.tokenize import word_tokenize \n",
    "from nltk import stem"
   ]
  },
  {
   "cell_type": "code",
   "execution_count": 14,
   "metadata": {},
   "outputs": [],
   "source": [
    "import re"
   ]
  },
  {
   "cell_type": "code",
   "execution_count": 10,
   "metadata": {},
   "outputs": [],
   "source": [
    "from nltk.corpus import stopwords\n",
    "from string import punctuation"
   ]
  },
  {
   "cell_type": "code",
   "execution_count": 53,
   "metadata": {},
   "outputs": [],
   "source": [
    "def cleaner(text):\n",
    "\n",
    "    words = re.split(r'\\W+', str(text))\n",
    "    words = [word.lower() for word in words]\n",
    "    without_punct = [wp for wp in words if wp not in punctuation]\n",
    "    sw = stopwords.words('english')\n",
    "    without_sw = [w for w in without_punct if w not in sw] \n",
    "    list_to_remove = ['b','br','span', 'one' , 'id', 'none' ]\n",
    "    clean_more = [w for w in without_sw if w not in list_to_remove] \n",
    "    clean_more_2 = [w for w in clean_more if  not (re.findall(re.compile(r'freetext'),w)\n",
    "                                                   or re.findall(re.compile(r'\\d'),w)) ] \n",
    "    ps = nltk.stem.PorterStemmer()\n",
    "    stemmed_list=[ps.stem(w) for w in clean_more_2 ]\n",
    "    return ' '.join(stemmed_list)"
   ]
  },
  {
   "cell_type": "code",
   "execution_count": 54,
   "metadata": {},
   "outputs": [],
   "source": [
    "text=''\n",
    "for books in range(20001,30001):\n",
    "    try:\n",
    "        df = pd.read_csv(\"books_3_tsv/article_\"+str(books)+\".tsv\", sep='\\t', encoding='utf-8' ) #vocab read csv files\n",
    "    except:\n",
    "        continue\n",
    "    df = df.fillna(\"\")\n",
    "    df['book_title']=df['book_title'].apply(cleaner)\n",
    "    df['complete_plot']=df['complete_plot'].apply(cleaner)\n",
    "    #df['book_series']=df['book_series'].apply(cleaner)\n",
    "\n",
    "    #df.to_csv('prova_libro_'+str(books)+'.tsv') #to create new cleaned csv use this line \n",
    "    #now create the vocab\n",
    "    \n",
    "    title = df.iloc[0, 0]\n",
    "    plot = df.iloc[0, 8]\n",
    "    text = text + \" \" + title + \" \" + plot\n",
    "\n",
    "arr = set(text.split()) # use set to eliminate repeating words\n",
    "vocab = pd.DataFrame(arr)\n",
    "vocab.to_csv(\"vocab.csv\") #save vocabulary as csv with indices for each vocab"
   ]
  },
  {
   "cell_type": "code",
   "execution_count": 1,
   "metadata": {},
   "outputs": [],
   "source": [
    "#import pandas as pd\n",
    "#text =\"\"\n",
    "#for books in range(20001,20009):\n",
    "#    try:\n",
    "#        df = pd.read_csv(\"books_3_tsv/article_\"+str(books)+\".tsv\", sep='\\t', encoding='utf-8' ) #vocab read csv files\n",
    "#    except:\n",
    "#        continue\n",
    "#    df = df.fillna(\"\")\n",
    "#    title = df.iloc[0, 0]\n",
    "#    plot = df.iloc[0, 8]\n",
    "#    text = text + \" \" + title + \" \" + plot\n",
    "#arr = set(text.split()) # use set to eliminate repeating words\n",
    "#vocab = pd.DataFrame(arr)\n",
    "#vocab.to_csv(\"vocab.csv\") #save vocabulary as csv with indices for each vocab'"
   ]
  },
  {
   "cell_type": "code",
   "execution_count": 55,
   "metadata": {},
   "outputs": [],
   "source": [
    "df_voc= pd.read_csv('vocab.csv')"
   ]
  },
  {
   "cell_type": "code",
   "execution_count": 56,
   "metadata": {},
   "outputs": [],
   "source": [
    "df_voc.columns=['id','word']"
   ]
  },
  {
   "cell_type": "code",
   "execution_count": 57,
   "metadata": {},
   "outputs": [
    {
     "data": {
      "text/html": [
       "<div>\n",
       "<style scoped>\n",
       "    .dataframe tbody tr th:only-of-type {\n",
       "        vertical-align: middle;\n",
       "    }\n",
       "\n",
       "    .dataframe tbody tr th {\n",
       "        vertical-align: top;\n",
       "    }\n",
       "\n",
       "    .dataframe thead th {\n",
       "        text-align: right;\n",
       "    }\n",
       "</style>\n",
       "<table border=\"1\" class=\"dataframe\">\n",
       "  <thead>\n",
       "    <tr style=\"text-align: right;\">\n",
       "      <th></th>\n",
       "      <th>id</th>\n",
       "      <th>word</th>\n",
       "    </tr>\n",
       "  </thead>\n",
       "  <tbody>\n",
       "    <tr>\n",
       "      <th>0</th>\n",
       "      <td>0</td>\n",
       "      <td>milosev</td>\n",
       "    </tr>\n",
       "    <tr>\n",
       "      <th>1</th>\n",
       "      <td>1</td>\n",
       "      <td>نصوص</td>\n",
       "    </tr>\n",
       "    <tr>\n",
       "      <th>2</th>\n",
       "      <td>2</td>\n",
       "      <td>bemushroom</td>\n",
       "    </tr>\n",
       "    <tr>\n",
       "      <th>3</th>\n",
       "      <td>3</td>\n",
       "      <td>timelessli</td>\n",
       "    </tr>\n",
       "    <tr>\n",
       "      <th>4</th>\n",
       "      <td>4</td>\n",
       "      <td>gammag</td>\n",
       "    </tr>\n",
       "    <tr>\n",
       "      <th>...</th>\n",
       "      <td>...</td>\n",
       "      <td>...</td>\n",
       "    </tr>\n",
       "    <tr>\n",
       "      <th>33168</th>\n",
       "      <td>33168</td>\n",
       "      <td>unearthli</td>\n",
       "    </tr>\n",
       "    <tr>\n",
       "      <th>33169</th>\n",
       "      <td>33169</td>\n",
       "      <td>laventhol</td>\n",
       "    </tr>\n",
       "    <tr>\n",
       "      <th>33170</th>\n",
       "      <td>33170</td>\n",
       "      <td>humaniform</td>\n",
       "    </tr>\n",
       "    <tr>\n",
       "      <th>33171</th>\n",
       "      <td>33171</td>\n",
       "      <td>nepal</td>\n",
       "    </tr>\n",
       "    <tr>\n",
       "      <th>33172</th>\n",
       "      <td>33172</td>\n",
       "      <td>nimu</td>\n",
       "    </tr>\n",
       "  </tbody>\n",
       "</table>\n",
       "<p>33173 rows × 2 columns</p>\n",
       "</div>"
      ],
      "text/plain": [
       "          id        word\n",
       "0          0     milosev\n",
       "1          1        نصوص\n",
       "2          2  bemushroom\n",
       "3          3  timelessli\n",
       "4          4      gammag\n",
       "...      ...         ...\n",
       "33168  33168   unearthli\n",
       "33169  33169   laventhol\n",
       "33170  33170  humaniform\n",
       "33171  33171       nepal\n",
       "33172  33172        nimu\n",
       "\n",
       "[33173 rows x 2 columns]"
      ]
     },
     "execution_count": 57,
     "metadata": {},
     "output_type": "execute_result"
    }
   ],
   "source": [
    "df_voc"
   ]
  }
 ],
 "metadata": {
  "kernelspec": {
   "display_name": "Python 3",
   "language": "python",
   "name": "python3"
  },
  "language_info": {
   "codemirror_mode": {
    "name": "ipython",
    "version": 3
   },
   "file_extension": ".py",
   "mimetype": "text/x-python",
   "name": "python",
   "nbconvert_exporter": "python",
   "pygments_lexer": "ipython3",
   "version": "3.8.1"
  }
 },
 "nbformat": 4,
 "nbformat_minor": 4
}
