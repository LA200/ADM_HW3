{
 "cells": [
  {
   "cell_type": "code",
   "execution_count": 3,
   "metadata": {},
   "outputs": [],
   "source": [
    "from bs4 import BeautifulSoup as soup\n",
    "import requests\n",
    "import time\n",
    "import urllib.request\n",
    "import urllib.error as uer"
   ]
  },
  {
   "cell_type": "code",
   "execution_count": 163,
   "metadata": {},
   "outputs": [],
   "source": [
    "#taking all web pages of books' rank\n",
    "#https://www.goodreads.com/list/show/1.Best_Books_Ever?page=1\n",
    "\n",
    "url_rank = []\n",
    "for i in range(1,301):\n",
    "    url_rank.append('https://www.goodreads.com/list/show/1.Best_Books_Ever?page={}'.format(i))\n",
    "    "
   ]
  },
  {
   "cell_type": "code",
   "execution_count": 62,
   "metadata": {},
   "outputs": [],
   "source": [
    "string_for_parsing = 'https://www.goodreads.com' #url of the site"
   ]
  },
  {
   "cell_type": "code",
   "execution_count": 182,
   "metadata": {},
   "outputs": [],
   "source": [
    "link_to_download = []\n",
    "for num_page in url_rank:\n",
    "    book_prova  = requests.get(num_page)\n",
    "    page = soup(book_prova.text, 'html.parser')\n",
    "    domenica = page.find_all('a', {'class' : 'bookTitle'})\n",
    "    for item in domenica:\n",
    "        link_to_download.append(string_for_parsing+item['href'])"
   ]
  },
  {
   "cell_type": "code",
   "execution_count": 184,
   "metadata": {},
   "outputs": [
    {
     "data": {
      "text/plain": [
       "30000"
      ]
     },
     "execution_count": 184,
     "metadata": {},
     "output_type": "execute_result"
    }
   ],
   "source": [
    "len(link_to_download)"
   ]
  },
  {
   "cell_type": "code",
   "execution_count": 188,
   "metadata": {},
   "outputs": [
    {
     "data": {
      "text/plain": [
       "'https://www.goodreads.com/book/show/153747.Moby_Dick_or_the_Whale'"
      ]
     },
     "execution_count": 188,
     "metadata": {},
     "output_type": "execute_result"
    }
   ],
   "source": [
    "link_to_download[100]"
   ]
  },
  {
   "cell_type": "code",
   "execution_count": 189,
   "metadata": {},
   "outputs": [],
   "source": [
    "#write txt file \n",
    "with open('urls.txt', 'w') as f:\n",
    "    for item in link_to_download:\n",
    "        f.write(\"%s\\n\" % item)\n"
   ]
  },
  {
   "cell_type": "code",
   "execution_count": null,
   "metadata": {},
   "outputs": [],
   "source": []
  },
  {
   "cell_type": "code",
   "execution_count": null,
   "metadata": {},
   "outputs": [],
   "source": []
  },
  {
   "cell_type": "code",
   "execution_count": null,
   "metadata": {},
   "outputs": [],
   "source": []
  },
  {
   "cell_type": "markdown",
   "metadata": {},
   "source": [
    "## Downloading html"
   ]
  },
  {
   "cell_type": "code",
   "execution_count": 183,
   "metadata": {},
   "outputs": [],
   "source": [
    "import urllib.request\n",
    "from pathlib import Path"
   ]
  },
  {
   "cell_type": "code",
   "execution_count": 44,
   "metadata": {},
   "outputs": [],
   "source": [
    "Path(\"/my/directory\").mkdir(parents=True, exist_ok=True)"
   ]
  },
  {
   "cell_type": "code",
   "execution_count": 191,
   "metadata": {},
   "outputs": [
    {
     "data": {
      "text/plain": [
       "0"
      ]
     },
     "execution_count": 191,
     "metadata": {},
     "output_type": "execute_result"
    }
   ],
   "source": [
    "from pathlib import Path\n",
    "\n",
    "Path(\"directory\").mkdir(exist_ok=True)\n",
    "\n",
    "for i in range(1,4):\n",
    "    nomeCartella = 'cartella{}'.format(i)\n",
    "    Path(nomeCartella).mkdir(exist_ok=True)"
   ]
  },
  {
   "cell_type": "code",
   "execution_count": 214,
   "metadata": {},
   "outputs": [],
   "source": [
    "def download_html():\n",
    "    id = int(input())  #we split download in 3 parts to work in parallel\n",
    "                        #Luca = 1  #Mert = 2  #Nello = 3\n",
    "    if id ==1:\n",
    "        a = 0\n",
    "        b = 10000\n",
    "        i = 0\n",
    "    elif id ==2:\n",
    "        a = 10000\n",
    "        b = 20000\n",
    "        i = 99\n",
    "    elif id == 3:\n",
    "        a = 20000\n",
    "        b = 30000\n",
    "        i = 199\n",
    "    \n",
    "    for url in range(a,b):\n",
    "        \n",
    "        if url == 0 or url%100 == 0:\n",
    "            i += 1\n",
    "            folder_name = 'html_books_{}'.format(i)\n",
    "            Path(folder_name).mkdir(exist_ok=True)\n",
    "        urllib.request.urlretrieve(link_to_download[url], 'html_books_{}/article_{}.html'.format(i,url+1))\n",
    "        "
   ]
  },
  {
   "cell_type": "code",
   "execution_count": null,
   "metadata": {},
   "outputs": [
    {
     "name": "stdout",
     "output_type": "stream",
     "text": [
      "1\n"
     ]
    }
   ],
   "source": [
    "download_html()"
   ]
  },
  {
   "cell_type": "code",
   "execution_count": 33,
   "metadata": {},
   "outputs": [
    {
     "data": {
      "text/plain": [
       "'https://www.goodreads.com/book/show/2767052-the-hunger-games'"
      ]
     },
     "execution_count": 33,
     "metadata": {},
     "output_type": "execute_result"
    }
   ],
   "source": [
    "url = 20000\n",
    "useful_links[url]"
   ]
  },
  {
   "cell_type": "code",
   "execution_count": 288,
   "metadata": {},
   "outputs": [],
   "source": [
    "for url in range(3460,10000):\n",
    "        urllib.request.urlretrieve (useful_links[url], \"html_books1/article_{}.html\".format((url+1)))"
   ]
  },
  {
   "cell_type": "code",
   "execution_count": 40,
   "metadata": {},
   "outputs": [
    {
     "data": {
      "text/plain": [
       "True"
      ]
     },
     "execution_count": 40,
     "metadata": {},
     "output_type": "execute_result"
    }
   ],
   "source": [
    "useful_links[0] == useful_links[200]"
   ]
  },
  {
   "cell_type": "code",
   "execution_count": null,
   "metadata": {},
   "outputs": [],
   "source": []
  }
 ],
 "metadata": {
  "kernelspec": {
   "display_name": "Python 3",
   "language": "python",
   "name": "python3"
  },
  "language_info": {
   "codemirror_mode": {
    "name": "ipython",
    "version": 3
   },
   "file_extension": ".py",
   "mimetype": "text/x-python",
   "name": "python",
   "nbconvert_exporter": "python",
   "pygments_lexer": "ipython3",
   "version": "3.7.6"
  }
 },
 "nbformat": 4,
 "nbformat_minor": 2
}
